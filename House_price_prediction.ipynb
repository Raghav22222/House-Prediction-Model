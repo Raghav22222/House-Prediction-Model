{
 "cells": [
  {
   "cell_type": "code",
   "execution_count": 1,
   "id": "1c6db6a4",
   "metadata": {},
   "outputs": [
    {
     "name": "stderr",
     "output_type": "stream",
     "text": [
      "C:\\Users\\tripa\\anaconda3\\lib\\site-packages\\pandas\\core\\arrays\\masked.py:60: UserWarning: Pandas requires version '1.3.6' or newer of 'bottleneck' (version '1.3.5' currently installed).\n",
      "  from pandas.core import (\n"
     ]
    }
   ],
   "source": [
    "import pandas as pd\n",
    "import numpy as np\n",
    "from sklearn.model_selection import train_test_split\n",
    "from sklearn.preprocessing import StandardScaler, OneHotEncoder\n",
    "from sklearn.compose import ColumnTransformer\n",
    "from sklearn.tree import DecisionTreeRegressor\n",
    "from sklearn.ensemble import RandomForestRegressor\n",
    "from sklearn.pipeline import Pipeline\n",
    "from sklearn.metrics import mean_squared_error\n",
    "import pandas as pd\n",
    "from sklearn.ensemble import RandomForestRegressor\n",
    "import matplotlib.pyplot as plt\n",
    "import seaborn as sns\n",
    "from sklearn.metrics import r2_score"
   ]
  },
  {
   "cell_type": "code",
   "execution_count": 2,
   "id": "20adfe60",
   "metadata": {},
   "outputs": [
    {
     "data": {
      "text/html": [
       "<div>\n",
       "<style scoped>\n",
       "    .dataframe tbody tr th:only-of-type {\n",
       "        vertical-align: middle;\n",
       "    }\n",
       "\n",
       "    .dataframe tbody tr th {\n",
       "        vertical-align: top;\n",
       "    }\n",
       "\n",
       "    .dataframe thead th {\n",
       "        text-align: right;\n",
       "    }\n",
       "</style>\n",
       "<table border=\"1\" class=\"dataframe\">\n",
       "  <thead>\n",
       "    <tr style=\"text-align: right;\">\n",
       "      <th></th>\n",
       "      <th>id</th>\n",
       "      <th>name</th>\n",
       "      <th>host_id</th>\n",
       "      <th>host_name</th>\n",
       "      <th>neighbourhood_group</th>\n",
       "      <th>neighbourhood</th>\n",
       "      <th>latitude</th>\n",
       "      <th>longitude</th>\n",
       "      <th>room_type</th>\n",
       "      <th>price</th>\n",
       "      <th>...</th>\n",
       "      <th>last_review</th>\n",
       "      <th>reviews_per_month</th>\n",
       "      <th>calculated_host_listings_count</th>\n",
       "      <th>availability_365</th>\n",
       "      <th>number_of_reviews_ltm</th>\n",
       "      <th>license</th>\n",
       "      <th>rating</th>\n",
       "      <th>bedrooms</th>\n",
       "      <th>beds</th>\n",
       "      <th>baths</th>\n",
       "    </tr>\n",
       "  </thead>\n",
       "  <tbody>\n",
       "    <tr>\n",
       "      <th>0</th>\n",
       "      <td>1312228</td>\n",
       "      <td>Rental unit in Brooklyn · ★5.0 · 1 bedroom</td>\n",
       "      <td>7130382</td>\n",
       "      <td>Walter</td>\n",
       "      <td>Brooklyn</td>\n",
       "      <td>Clinton Hill</td>\n",
       "      <td>40.683710</td>\n",
       "      <td>-73.964610</td>\n",
       "      <td>Private room</td>\n",
       "      <td>55.0</td>\n",
       "      <td>...</td>\n",
       "      <td>2015-12-20</td>\n",
       "      <td>0.03</td>\n",
       "      <td>1</td>\n",
       "      <td>0</td>\n",
       "      <td>0</td>\n",
       "      <td>No License</td>\n",
       "      <td>5.0</td>\n",
       "      <td>1</td>\n",
       "      <td>1</td>\n",
       "      <td>Not specified</td>\n",
       "    </tr>\n",
       "    <tr>\n",
       "      <th>1</th>\n",
       "      <td>45277537</td>\n",
       "      <td>Rental unit in New York · ★4.67 · 2 bedrooms ·...</td>\n",
       "      <td>51501835</td>\n",
       "      <td>Jeniffer</td>\n",
       "      <td>Manhattan</td>\n",
       "      <td>Hell's Kitchen</td>\n",
       "      <td>40.766610</td>\n",
       "      <td>-73.988100</td>\n",
       "      <td>Entire home/apt</td>\n",
       "      <td>144.0</td>\n",
       "      <td>...</td>\n",
       "      <td>2023-05-01</td>\n",
       "      <td>0.24</td>\n",
       "      <td>139</td>\n",
       "      <td>364</td>\n",
       "      <td>2</td>\n",
       "      <td>No License</td>\n",
       "      <td>4.67</td>\n",
       "      <td>2</td>\n",
       "      <td>1</td>\n",
       "      <td>1</td>\n",
       "    </tr>\n",
       "    <tr>\n",
       "      <th>2</th>\n",
       "      <td>971353993633883038</td>\n",
       "      <td>Rental unit in New York · ★4.17 · 1 bedroom · ...</td>\n",
       "      <td>528871354</td>\n",
       "      <td>Joshua</td>\n",
       "      <td>Manhattan</td>\n",
       "      <td>Chelsea</td>\n",
       "      <td>40.750764</td>\n",
       "      <td>-73.994605</td>\n",
       "      <td>Entire home/apt</td>\n",
       "      <td>187.0</td>\n",
       "      <td>...</td>\n",
       "      <td>2023-12-18</td>\n",
       "      <td>1.67</td>\n",
       "      <td>1</td>\n",
       "      <td>343</td>\n",
       "      <td>6</td>\n",
       "      <td>Exempt</td>\n",
       "      <td>4.17</td>\n",
       "      <td>1</td>\n",
       "      <td>2</td>\n",
       "      <td>1</td>\n",
       "    </tr>\n",
       "    <tr>\n",
       "      <th>3</th>\n",
       "      <td>3857863</td>\n",
       "      <td>Rental unit in New York · ★4.64 · 1 bedroom · ...</td>\n",
       "      <td>19902271</td>\n",
       "      <td>John And Catherine</td>\n",
       "      <td>Manhattan</td>\n",
       "      <td>Washington Heights</td>\n",
       "      <td>40.835600</td>\n",
       "      <td>-73.942500</td>\n",
       "      <td>Private room</td>\n",
       "      <td>120.0</td>\n",
       "      <td>...</td>\n",
       "      <td>2023-09-17</td>\n",
       "      <td>1.38</td>\n",
       "      <td>2</td>\n",
       "      <td>363</td>\n",
       "      <td>12</td>\n",
       "      <td>No License</td>\n",
       "      <td>4.64</td>\n",
       "      <td>1</td>\n",
       "      <td>1</td>\n",
       "      <td>1</td>\n",
       "    </tr>\n",
       "    <tr>\n",
       "      <th>4</th>\n",
       "      <td>40896611</td>\n",
       "      <td>Condo in New York · ★4.91 · Studio · 1 bed · 1...</td>\n",
       "      <td>61391963</td>\n",
       "      <td>Stay With Vibe</td>\n",
       "      <td>Manhattan</td>\n",
       "      <td>Murray Hill</td>\n",
       "      <td>40.751120</td>\n",
       "      <td>-73.978600</td>\n",
       "      <td>Entire home/apt</td>\n",
       "      <td>85.0</td>\n",
       "      <td>...</td>\n",
       "      <td>2023-12-03</td>\n",
       "      <td>0.24</td>\n",
       "      <td>133</td>\n",
       "      <td>335</td>\n",
       "      <td>3</td>\n",
       "      <td>No License</td>\n",
       "      <td>4.91</td>\n",
       "      <td>Studio</td>\n",
       "      <td>1</td>\n",
       "      <td>1</td>\n",
       "    </tr>\n",
       "  </tbody>\n",
       "</table>\n",
       "<p>5 rows × 22 columns</p>\n",
       "</div>"
      ],
      "text/plain": [
       "                   id                                               name  \\\n",
       "0             1312228         Rental unit in Brooklyn · ★5.0 · 1 bedroom   \n",
       "1            45277537  Rental unit in New York · ★4.67 · 2 bedrooms ·...   \n",
       "2  971353993633883038  Rental unit in New York · ★4.17 · 1 bedroom · ...   \n",
       "3             3857863  Rental unit in New York · ★4.64 · 1 bedroom · ...   \n",
       "4            40896611  Condo in New York · ★4.91 · Studio · 1 bed · 1...   \n",
       "\n",
       "     host_id           host_name neighbourhood_group       neighbourhood  \\\n",
       "0    7130382              Walter            Brooklyn        Clinton Hill   \n",
       "1   51501835            Jeniffer           Manhattan      Hell's Kitchen   \n",
       "2  528871354              Joshua           Manhattan             Chelsea   \n",
       "3   19902271  John And Catherine           Manhattan  Washington Heights   \n",
       "4   61391963      Stay With Vibe           Manhattan         Murray Hill   \n",
       "\n",
       "    latitude  longitude        room_type  price  ...  last_review  \\\n",
       "0  40.683710 -73.964610     Private room   55.0  ...   2015-12-20   \n",
       "1  40.766610 -73.988100  Entire home/apt  144.0  ...   2023-05-01   \n",
       "2  40.750764 -73.994605  Entire home/apt  187.0  ...   2023-12-18   \n",
       "3  40.835600 -73.942500     Private room  120.0  ...   2023-09-17   \n",
       "4  40.751120 -73.978600  Entire home/apt   85.0  ...   2023-12-03   \n",
       "\n",
       "   reviews_per_month calculated_host_listings_count  availability_365  \\\n",
       "0               0.03                              1                 0   \n",
       "1               0.24                            139               364   \n",
       "2               1.67                              1               343   \n",
       "3               1.38                              2               363   \n",
       "4               0.24                            133               335   \n",
       "\n",
       "   number_of_reviews_ltm     license  rating bedrooms beds          baths  \n",
       "0                      0  No License    5.0         1    1  Not specified  \n",
       "1                      2  No License   4.67         2    1              1  \n",
       "2                      6      Exempt   4.17         1    2              1  \n",
       "3                     12  No License   4.64         1    1              1  \n",
       "4                      3  No License   4.91    Studio    1              1  \n",
       "\n",
       "[5 rows x 22 columns]"
      ]
     },
     "metadata": {},
     "output_type": "display_data"
    },
    {
     "name": "stdout",
     "output_type": "stream",
     "text": [
      "- - - - - - - - - - - - - - - - - - - - - - - - - - - - - - - - - - - - - - - - - - - - - - - - - - - - - - - - - - - - - - - \n",
      "(20758, 22)\n",
      "- - - - - - - - - - - - - - - - - - - - - - - - - - - - - - - - - - - - - - - - - - - - - - - - - - - - - - - - - - - - - - - \n",
      "Index(['id', 'name', 'host_id', 'host_name', 'neighbourhood_group',\n",
      "       'neighbourhood', 'latitude', 'longitude', 'room_type', 'price',\n",
      "       'minimum_nights', 'number_of_reviews', 'last_review',\n",
      "       'reviews_per_month', 'calculated_host_listings_count',\n",
      "       'availability_365', 'number_of_reviews_ltm', 'license', 'rating',\n",
      "       'bedrooms', 'beds', 'baths'],\n",
      "      dtype='object')\n",
      "- - - - - - - - - - - - - - - - - - - - - - - - - - - - - - - - - - - - - - - - - - - - - - - - - - - - - - - - - - - - - - - \n",
      "id                                0\n",
      "name                              0\n",
      "host_id                           0\n",
      "host_name                         0\n",
      "neighbourhood_group               0\n",
      "neighbourhood                     0\n",
      "latitude                          0\n",
      "longitude                         0\n",
      "room_type                         0\n",
      "price                             0\n",
      "minimum_nights                    0\n",
      "number_of_reviews                 0\n",
      "last_review                       0\n",
      "reviews_per_month                 0\n",
      "calculated_host_listings_count    0\n",
      "availability_365                  0\n",
      "number_of_reviews_ltm             0\n",
      "license                           0\n",
      "rating                            0\n",
      "bedrooms                          0\n",
      "beds                              0\n",
      "baths                             0\n",
      "dtype: int64\n",
      "- - - - - - - - - - - - - - - - - - - - - - - - - - - - - - - - - - - - - - - - - - - - - - - - - - - - - - - - - - - - - - - \n",
      "<class 'pandas.core.frame.DataFrame'>\n",
      "RangeIndex: 20758 entries, 0 to 20757\n",
      "Data columns (total 22 columns):\n",
      " #   Column                          Non-Null Count  Dtype  \n",
      "---  ------                          --------------  -----  \n",
      " 0   id                              20758 non-null  int64  \n",
      " 1   name                            20758 non-null  object \n",
      " 2   host_id                         20758 non-null  int64  \n",
      " 3   host_name                       20758 non-null  object \n",
      " 4   neighbourhood_group             20758 non-null  object \n",
      " 5   neighbourhood                   20758 non-null  object \n",
      " 6   latitude                        20758 non-null  float64\n",
      " 7   longitude                       20758 non-null  float64\n",
      " 8   room_type                       20758 non-null  object \n",
      " 9   price                           20758 non-null  float64\n",
      " 10  minimum_nights                  20758 non-null  int64  \n",
      " 11  number_of_reviews               20758 non-null  int64  \n",
      " 12  last_review                     20758 non-null  object \n",
      " 13  reviews_per_month               20758 non-null  float64\n",
      " 14  calculated_host_listings_count  20758 non-null  int64  \n",
      " 15  availability_365                20758 non-null  int64  \n",
      " 16  number_of_reviews_ltm           20758 non-null  int64  \n",
      " 17  license                         20758 non-null  object \n",
      " 18  rating                          20758 non-null  object \n",
      " 19  bedrooms                        20758 non-null  object \n",
      " 20  beds                            20758 non-null  int64  \n",
      " 21  baths                           20758 non-null  object \n",
      "dtypes: float64(4), int64(8), object(10)\n",
      "memory usage: 3.5+ MB\n",
      "None\n"
     ]
    }
   ],
   "source": [
    "\n",
    "df=pd.read_csv(r\"C:\\Users\\tripa\\Downloads\\new_york_listings_2024.csv\")\n",
    "display(df.head())\n",
    "print('- - - - - - - '*9)\n",
    "print(df.shape)\n",
    "print('- - - - - - - '*9)\n",
    "print(df.columns)\n",
    "print('- - - - - - - '*9)\n",
    "print(df.isnull().sum())\n",
    "print('- - - - - - - '*9)\n",
    "print(df.info())\n"
   ]
  },
  {
   "cell_type": "code",
   "execution_count": 4,
   "id": "02830098",
   "metadata": {},
   "outputs": [],
   "source": [
    "# Feature Engineering\n",
    "df['rental_income'] = df['price'] * df['availability_365']\n",
    "df['revenue_per_bedroom'] = df['rental_income'] / pd.to_numeric(df['bedrooms'], errors='coerce')\n",
    "df['beds'] = pd.to_numeric(df['beds'], errors='coerce')\n",
    "df['baths'] = pd.to_numeric(df['baths'], errors='coerce')\n",
    "df = df.dropna(subset=['rental_income', 'revenue_per_bedroom', 'beds', 'baths', 'neighbourhood'])\n",
    "\n",
    "\n",
    "\n",
    "\n",
    "\n",
    "\n",
    "\n"
   ]
  },
  {
   "cell_type": "code",
   "execution_count": 5,
   "id": "98da27e0",
   "metadata": {},
   "outputs": [
    {
     "name": "stdout",
     "output_type": "stream",
     "text": [
      "Columns with outliers removed:\n",
      "['rental_income', 'revenue_per_bedroom', 'price', 'beds', 'baths']\n"
     ]
    }
   ],
   "source": [
    "def remove_outliers_iqr(data, columns):\n",
    "    for col in columns:\n",
    "        Q1 = data[col].quantile(0.25)  # 25th percentile\n",
    "        Q3 = data[col].quantile(0.75)  # 75th percentile\n",
    "        IQR = Q3 - Q1\n",
    "        lower_bound = Q1 - 1.5 * IQR\n",
    "        upper_bound = Q3 + 1.5 * IQR\n",
    "        data = data[(data[col] >= lower_bound) & (data[col] <= upper_bound)]\n",
    "    return data\n",
    "#Columns for outlier detection\n",
    "outlier_columns = ['rental_income', 'revenue_per_bedroom', 'price', 'beds', 'baths']\n",
    "df = remove_outliers_iqr(df, outlier_columns)\n",
    "\n",
    "# Features and Target\n",
    "features = df[['price', 'availability_365', 'number_of_reviews',\n",
    "               'calculated_host_listings_count', 'beds', 'baths']]\n",
    "target = df['revenue_per_bedroom'].loc[features.index]\n",
    "\n",
    "# Display columns with outliers\n",
    "print(\"Columns with outliers removed:\")\n",
    "print(outlier_columns)"
   ]
  },
  {
   "cell_type": "code",
   "execution_count": 6,
   "id": "52868db9",
   "metadata": {},
   "outputs": [
    {
     "name": "stdout",
     "output_type": "stream",
     "text": [
      "R-squared (Accuracy): 0.99\n"
     ]
    }
   ],
   "source": [
    "target = df['revenue_per_bedroom'].loc[features.index]\n",
    "rf = RandomForestRegressor(n_estimators=100, random_state=42)\n",
    "rf.fit(features, target)\n",
    "predictions = rf.predict(features)\n",
    "r2 = r2_score(target, predictions)\n",
    "print(f\"R-squared (Accuracy): {r2:.2f}\")"
   ]
  },
  {
   "cell_type": "code",
   "execution_count": 7,
   "id": "72750928",
   "metadata": {},
   "outputs": [
    {
     "name": "stdout",
     "output_type": "stream",
     "text": [
      "Top 10 Important Features:\n",
      "availability_365                  0.640807\n",
      "price                             0.268370\n",
      "beds                              0.046370\n",
      "number_of_reviews                 0.028977\n",
      "calculated_host_listings_count    0.015476\n",
      "baths                             0.000000\n",
      "dtype: float64\n"
     ]
    },
    {
     "data": {
      "image/png": "[encoded data removed]",
      "text/plain": [
       "<Figure size 1000x600 with 1 Axes>"
      ]
     },
     "metadata": {},
     "output_type": "display_data"
    }
   ],
   "source": [
    "# Feature Importances\n",
    "feature_importances = pd.Series(rf.feature_importances_, index=features.columns).sort_values(ascending=False)\n",
    "print(\"Top 10 Important Features:\")\n",
    "print(feature_importances.head(10))\n",
    "\n",
    "# Feature Importances\n",
    "plt.figure(figsize=(10, 6))\n",
    "sns.barplot(x=feature_importances.head(10).index, y=feature_importances.head(10).values)\n",
    "plt.title(\"Top 10 Most Important Features for Rental Profitability\")\n",
    "plt.xlabel('Features')\n",
    "plt.ylabel('Importance')\n",
    "plt.xticks(rotation=45)\n",
    "plt.show()"
   ]
  },
  {
   "cell_type": "code",
   "execution_count": 8,
   "id": "d3fd5494",
   "metadata": {},
   "outputs": [
    {
     "name": "stdout",
     "output_type": "stream",
     "text": [
      "\n",
      "Top 10 Most Profitable Neighborhoods (Average Revenue per Bedroom):\n",
      "                rental_income  revenue_per_bedroom\n",
      "neighbourhood                                     \n",
      "Breezy Point     54600.000000         54600.000000\n",
      "Port Morris      41802.357143         38279.964286\n",
      "Midland Beach    41948.750000         35378.750000\n",
      "Graniteville     34762.000000         34762.000000\n",
      "Rossville        34580.000000         34580.000000\n",
      "Edenwald         34537.416667         34537.416667\n",
      "Murray Hill      38979.600000         34355.875000\n",
      "Middle Village   38396.250000         34017.666667\n",
      "Castle Hill      51925.000000         33890.000000\n",
      "Huguenot         33712.000000         33712.000000\n"
     ]
    },
    {
     "data": {
      "image/png": "[encoded data removed]",
      "text/plain": [
       "<Figure size 1200x600 with 1 Axes>"
      ]
     },
     "metadata": {},
     "output_type": "display_data"
    }
   ],
   "source": [
    "# Analyze Neighborhood Profitability\n",
    "neighborhood_profitability = df.groupby('neighbourhood').agg({\n",
    "    'rental_income': 'mean',\n",
    "    'revenue_per_bedroom': 'mean'\n",
    "}).sort_values(by='revenue_per_bedroom', ascending=False).head(10)\n",
    "\n",
    "print(\"\\nTop 10 Most Profitable Neighborhoods (Average Revenue per Bedroom):\")\n",
    "print(neighborhood_profitability)\n",
    "\n",
    "plt.figure(figsize=(12, 6))\n",
    "sns.barplot(x=neighborhood_profitability.index, y=neighborhood_profitability['revenue_per_bedroom'])\n",
    "plt.title(\"Top 10 Most Profitable Neighborhoods (Revenue per Bedroom)\")\n",
    "plt.xlabel('Neighborhood')\n",
    "plt.ylabel('Average Revenue per Bedroom')\n",
    "plt.xticks(rotation=45)\n",
    "plt.show()"
   ]
  },
  {
   "cell_type": "code",
   "execution_count": 10,
   "id": "f56a2e61",
   "metadata": {
    "scrolled": true
   },
   "outputs": [
    {
     "name": "stdout",
     "output_type": "stream",
     "text": [
      "\n",
      "Top 10 Most Profitable Features: Number of Beds (Revenue per Bedroom):\n",
      "      rental_income  revenue_per_bedroom\n",
      "beds                                    \n",
      "2      29449.234973         21852.975764\n",
      "1      19199.140293         18827.227394\n",
      "3      33139.975546         18384.254585\n"
     ]
    },
    {
     "data": {
      "image/png": "[encoded data removed]",
      "text/plain": [
       "<Figure size 1200x600 with 1 Axes>"
      ]
     },
     "metadata": {},
     "output_type": "display_data"
    }
   ],
   "source": [
    "#Identify Profitable Features of a House\n",
    "beds_profitability = df.groupby('beds').agg({\n",
    "    'rental_income': 'mean',\n",
    "    'revenue_per_bedroom': 'mean'\n",
    "}).sort_values(by='revenue_per_bedroom', ascending=False).head(10)\n",
    "\n",
    "print(\"\\nTop 10 Most Profitable Features: Number of Beds (Revenue per Bedroom):\")\n",
    "print(beds_profitability)\n",
    "\n",
    "# Plot Profitable Features (Beds)\n",
    "plt.figure(figsize=(12, 6))\n",
    "sns.barplot(x=beds_profitability.index, y=beds_profitability['revenue_per_bedroom'])\n",
    "plt.title(\"Profitability by Number of Beds (Revenue per Bedroom)\")\n",
    "plt.xlabel('Number of Beds')\n",
    "plt.ylabel('Average Revenue per Bedroom')\n",
    "plt.xticks(rotation=45)\n",
    "plt.show()\n",
    "\n",
    "\n"
   ]
  },
  {
   "cell_type": "code",
   "execution_count": 15,
   "id": "7fee8d8a",
   "metadata": {},
   "outputs": [
    {
     "name": "stdout",
     "output_type": "stream",
     "text": [
      "{'Model': 'Linear Regression', 'MAE': 6158.542768859147, 'RMSE': 8045.1088413772895, 'R²': 0.7673372020097519}\n",
      "{'Model': 'Decision Tree', 'MAE': 17.921312097080015, 'RMSE': 455.0293682814435, 'R²': 0.9992557103946025}\n",
      "{'Model': 'Random Forest', 'MAE': 924.3496416114391, 'RMSE': 2033.4391795866477, 'R²': 0.9851363499112527}\n"
     ]
    },
    {
     "name": "stderr",
     "output_type": "stream",
     "text": [
      "C:\\Users\\tripa\\anaconda3\\lib\\site-packages\\sklearn\\metrics\\_regression.py:492: FutureWarning: 'squared' is deprecated in version 1.4 and will be removed in 1.6. To calculate the root mean squared error, use the function'root_mean_squared_error'.\n",
      "  warnings.warn(\n",
      "C:\\Users\\tripa\\anaconda3\\lib\\site-packages\\sklearn\\metrics\\_regression.py:492: FutureWarning: 'squared' is deprecated in version 1.4 and will be removed in 1.6. To calculate the root mean squared error, use the function'root_mean_squared_error'.\n",
      "  warnings.warn(\n",
      "C:\\Users\\tripa\\anaconda3\\lib\\site-packages\\sklearn\\metrics\\_regression.py:492: FutureWarning: 'squared' is deprecated in version 1.4 and will be removed in 1.6. To calculate the root mean squared error, use the function'root_mean_squared_error'.\n",
      "  warnings.warn(\n"
     ]
    }
   ],
   "source": [
    "from sklearn.linear_model import LinearRegression\n",
    "from sklearn.tree import DecisionTreeRegressor\n",
    "from sklearn.ensemble import RandomForestRegressor\n",
    "from sklearn.metrics import mean_absolute_error, mean_squared_error, r2_score\n",
    "\n",
    "# Initialize Models\n",
    "lr = LinearRegression()\n",
    "dt = DecisionTreeRegressor(random_state=42)\n",
    "rf = RandomForestRegressor(n_estimators=100, random_state=42)\n",
    "\n",
    "# Train Models\n",
    "lr.fit(features, target)\n",
    "dt.fit(features, target)\n",
    "rf.fit(features, target)\n",
    "\n",
    "# Predictions\n",
    "lr_preds = lr.predict(features)\n",
    "dt_preds = dt.predict(features)\n",
    "rf_preds = rf.predict(features)\n",
    "\n",
    "# Evaluation Function\n",
    "def evaluate_model(model_name, y_true, y_pred):\n",
    "    mae = mean_absolute_error(y_true, y_pred)\n",
    "    rmse = mean_squared_error(y_true, y_pred, squared=False)\n",
    "    r2 = r2_score(y_true, y_pred)\n",
    "    return {\"Model\": model_name, \"MAE\": mae, \"RMSE\": rmse, \"R²\": r2}\n",
    "\n",
    "# Compare Models\n",
    "lr_results = evaluate_model(\"Linear Regression\", target, lr_preds)\n",
    "dt_results = evaluate_model(\"Decision Tree\", target, dt_preds)\n",
    "rf_results = evaluate_model(\"Random Forest\", target, rf_preds)\n",
    "\n",
    "# Print Results\n",
    "print(lr_results)\n",
    "print(dt_results)\n",
    "print(rf_results)"
   ]
  },
  {
   "cell_type": "code",
   "execution_count": 16,
   "id": "3a3e5584",
   "metadata": {},
   "outputs": [
    {
     "name": "stdout",
     "output_type": "stream",
     "text": [
      "Fitting 5 folds for each of 27 candidates, totalling 135 fits\n",
      "Best Model R² Score: 0.94\n",
      "Best Parameters: {'max_depth': 10, 'min_samples_split': 5, 'n_estimators': 200}\n"
     ]
    },
    {
     "name": "stderr",
     "output_type": "stream",
     "text": [
      "C:\\Users\\tripa\\anaconda3\\lib\\site-packages\\sklearn\\metrics\\_regression.py:492: FutureWarning: 'squared' is deprecated in version 1.4 and will be removed in 1.6. To calculate the root mean squared error, use the function'root_mean_squared_error'.\n",
      "  warnings.warn(\n"
     ]
    }
   ],
   "source": [
    "#Hyperparameter Tuninig For Random Forest\n",
    "from sklearn.model_selection import GridSearchCV\n",
    "\n",
    "param_grid = {\n",
    "    'n_estimators': [50, 100, 200],  # Number of trees\n",
    "    'max_depth': [None, 10, 20],  # Tree depth\n",
    "    'min_samples_split': [2, 5, 10]  # Minimum samples to split\n",
    "}\n",
    "\n",
    "grid_search = GridSearchCV(RandomForestRegressor(random_state=42), param_grid, cv=5, n_jobs=-1, verbose=2)\n",
    "grid_search.fit(features, target)\n",
    "\n",
    "best_rf_model = grid_search.best_estimator_\n",
    "\n",
    "# Predict using the best model\n",
    "best_rf_preds = best_rf_model.predict(features)\n",
    "\n",
    "# Evaluate the optimized model\n",
    "from sklearn.metrics import mean_absolute_error, mean_squared_error, r2_score\n",
    "\n",
    "def evaluate_model(model_name, y_true, y_pred):\n",
    "    mae = mean_absolute_error(y_true, y_pred)\n",
    "    rmse = mean_squared_error(y_true, y_pred, squared=False)\n",
    "    r2 = r2_score(y_true, y_pred)\n",
    "    return {\"Model\": model_name, \"MAE\": mae, \"RMSE\": rmse, \"R²\": r2}\n",
    "\n",
    "best_rf_results = evaluate_model(\"Tuned Random Forest\", target, best_rf_preds)\n",
    "\n",
    "print(f\"Best Model R² Score: {best_rf_results['R²']:.2f}\")\n",
    "print(f\"Best Parameters: {grid_search.best_params_}\")"
   ]
  },
  {
   "cell_type": "markdown",
   "id": "99f3d0d1",
   "metadata": {},
   "source": [
    "#### The Best Model with good R^2 is Decision Tree but it could be due to Overfitting, So it is not good for real world problems so we would go with Fine tuned Random Forest model"
   ]
  },
  {
   "cell_type": "code",
   "execution_count": 19,
   "id": "01d9295f",
   "metadata": {},
   "outputs": [
    {
     "name": "stdout",
     "output_type": "stream",
     "text": [
      "✅ Tuned RandomForest model saved successfully!\n"
     ]
    }
   ],
   "source": [
    "import joblib\n",
    "\n",
    "# Save the best-tuned RandomForest model\n",
    "joblib.dump(best_rf_model, 'tuned_random_forest_model.pkl')\n",
    "\n",
    "print(\"✅ Tuned RandomForest model saved successfully!\")"
   ]
  },
  {
   "cell_type": "code",
   "execution_count": 20,
   "id": "4f8bcb42",
   "metadata": {},
   "outputs": [
    {
     "name": "stdout",
     "output_type": "stream",
     "text": [
      "Model was trained on these features: ['price' 'availability_365' 'number_of_reviews'\n",
      " 'calculated_host_listings_count' 'beds' 'baths']\n",
      "API is receiving these features: ['price_per_bedroom', 'bedrooms', 'beds', 'baths', 'room_type_Private_room', 'longitude', 'neighbourhood_group_Manhattan', 'occupancy_rate', 'revenue_per_bedroom']\n"
     ]
    }
   ],
   "source": [
    "print(\"Model was trained on these features:\", best_rf_model.feature_names_in_)\n",
    "print(\"API is receiving these features:\", [\n",
    "    \"price_per_bedroom\", \"bedrooms\", \"beds\", \"baths\",\n",
    "    \"room_type_Private_room\", \"longitude\",\n",
    "    \"neighbourhood_group_Manhattan\", \"occupancy_rate\",\n",
    "    \"revenue_per_bedroom\"\n",
    "])"
   ]
  },
  {
   "cell_type": "code",
   "execution_count": null,
   "id": "1e57f682",
   "metadata": {},
   "outputs": [],
   "source": []
  }
 ],
 "metadata": {
  "kernelspec": {
   "display_name": "Python 3 (ipykernel)",
   "language": "python",
   "name": "python3"
  },
  "language_info": {
   "codemirror_mode": {
    "name": "ipython",
    "version": 3
   },
   "file_extension": ".py",
   "mimetype": "text/x-python",
   "name": "python",
   "nbconvert_exporter": "python",
   "pygments_lexer": "ipython3",
   "version": "3.10.9"
  }
 },
 "nbformat": 4,
 "nbformat_minor": 5
}
